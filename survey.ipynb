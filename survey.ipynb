{
  "nbformat": 4,
  "nbformat_minor": 0,
  "metadata": {
    "colab": {
      "name": "survey.ipynb",
      "provenance": [],
      "collapsed_sections": [],
      "authorship_tag": "ABX9TyPPlwPhcw3wOBkAriESIKgA",
      "include_colab_link": true
    },
    "kernelspec": {
      "name": "python3",
      "display_name": "Python 3"
    },
    "language_info": {
      "name": "python"
    }
  },
  "cells": [
    {
      "cell_type": "markdown",
      "metadata": {
        "id": "view-in-github",
        "colab_type": "text"
      },
      "source": [
        "<a href=\"https://colab.research.google.com/github/Sn-one/Python-Crash-Course-Sol/blob/main/survey.ipynb\" target=\"_parent\"><img src=\"https://colab.research.google.com/assets/colab-badge.svg\" alt=\"Open In Colab\"/></a>"
      ]
    },
    {
      "cell_type": "code",
      "metadata": {
        "id": "dpjQ5vxob1I5"
      },
      "source": [
        "class AnonymousSurvey:\n",
        "  \"\"\"Collect anonymous answerd to a survey question \"\"\"\n",
        "\n",
        "  def __init__(self, question):\n",
        "    \"\"\" Store a question, and gettiong ready to store responses.\"\"\"\n",
        "    self.question = question\n",
        "    self.responses = []\n",
        "\n",
        "  \n",
        "  def show_question(self):\n",
        "    \"\"\" Show the Survey question.\"\"\"\n",
        "    print(self.question)\n",
        "  \n",
        "  def store_response(self, new_response):\n",
        "    \"\"\" store a single response  to the survey\"\"\"\n",
        "    self.responses.append(new_response)\n",
        "\n",
        "  def show_results(self):\n",
        "    \"\"\"Show all responses that have been given\"\"\"\n",
        "    print(\"Survey Results: \")\n",
        "    for response in self.responses:\n",
        "      print(f\"- {response}\") "
      ],
      "execution_count": null,
      "outputs": []
    }
  ]
}