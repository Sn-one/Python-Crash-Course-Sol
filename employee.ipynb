{
  "nbformat": 4,
  "nbformat_minor": 0,
  "metadata": {
    "colab": {
      "name": "employee.ipynb",
      "provenance": [],
      "collapsed_sections": [],
      "authorship_tag": "ABX9TyPZ3re3EjXaBZHtDBRobrTV",
      "include_colab_link": true
    },
    "kernelspec": {
      "name": "python3",
      "display_name": "Python 3"
    },
    "language_info": {
      "name": "python"
    }
  },
  "cells": [
    {
      "cell_type": "markdown",
      "metadata": {
        "id": "view-in-github",
        "colab_type": "text"
      },
      "source": [
        "<a href=\"https://colab.research.google.com/github/Sn-one/Python-Crash-Course-Sol/blob/main/employee.ipynb\" target=\"_parent\"><img src=\"https://colab.research.google.com/assets/colab-badge.svg\" alt=\"Open In Colab\"/></a>"
      ]
    },
    {
      "cell_type": "code",
      "metadata": {
        "id": "Zr6-HJdTwZN4"
      },
      "source": [
        "class Employee:\n",
        "\n",
        "  def __init__(self, first_name, last_name,annual_salary):\n",
        "    self.first_name = first_name\n",
        "    self.last_name = last_name\n",
        "    self.annual_salary = annual_salary\n",
        "    \n",
        "  def give_raise(self, amount = 5000):\n",
        "    \n",
        "    self.annual_salary += amount\n",
        "    \n",
        "    return self.annual_salary\n"
      ],
      "execution_count": 7,
      "outputs": []
    },
    {
      "cell_type": "code",
      "metadata": {
        "id": "1TifXE-M3drU"
      },
      "source": [
        "sn = Employee('S','N',5000)\n"
      ],
      "execution_count": 8,
      "outputs": []
    },
    {
      "cell_type": "code",
      "metadata": {
        "colab": {
          "base_uri": "https://localhost:8080/"
        },
        "id": "-GjqmIf53qlN",
        "outputId": "bf0a9684-5bc1-4360-d9c0-8e58937e6cb8"
      },
      "source": [
        "sn.give_raise()"
      ],
      "execution_count": 9,
      "outputs": [
        {
          "output_type": "execute_result",
          "data": {
            "text/plain": [
              "10000"
            ]
          },
          "metadata": {
            "tags": []
          },
          "execution_count": 9
        }
      ]
    }
  ]
}