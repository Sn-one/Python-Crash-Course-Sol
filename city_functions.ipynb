{
  "nbformat": 4,
  "nbformat_minor": 0,
  "metadata": {
    "colab": {
      "name": "city_functions.ipynb",
      "provenance": [],
      "collapsed_sections": [],
      "authorship_tag": "ABX9TyNtDpv7hd18YOV/khzci9UK",
      "include_colab_link": true
    },
    "kernelspec": {
      "name": "python3",
      "display_name": "Python 3"
    },
    "language_info": {
      "name": "python"
    }
  },
  "cells": [
    {
      "cell_type": "markdown",
      "metadata": {
        "id": "view-in-github",
        "colab_type": "text"
      },
      "source": [
        "<a href=\"https://colab.research.google.com/github/Sn-one/Python-Crash-Course-Sol/blob/main/city_functions.ipynb\" target=\"_parent\"><img src=\"https://colab.research.google.com/assets/colab-badge.svg\" alt=\"Open In Colab\"/></a>"
      ]
    },
    {
      "cell_type": "code",
      "metadata": {
        "id": "jNExbfm8Sdvw"
      },
      "source": [
        "def city_country(city, country, population ):\n",
        "  \"\"\"formats : city and country\"\"\"\n",
        "\n",
        "  city_country_format = f\"{city}, {country} - Population: {population}\"\n",
        "\n",
        "  return city_country_format  \n"
      ],
      "execution_count": 2,
      "outputs": []
    }
  ]
}