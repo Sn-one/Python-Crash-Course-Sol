{
  "nbformat": 4,
  "nbformat_minor": 0,
  "metadata": {
    "colab": {
      "name": "lottery.ipynb",
      "provenance": [],
      "collapsed_sections": [],
      "authorship_tag": "ABX9TyOiEK2SYkAYIULhVx9uhS6P",
      "include_colab_link": true
    },
    "kernelspec": {
      "name": "python3",
      "display_name": "Python 3"
    },
    "language_info": {
      "name": "python"
    }
  },
  "cells": [
    {
      "cell_type": "markdown",
      "metadata": {
        "id": "view-in-github",
        "colab_type": "text"
      },
      "source": [
        "<a href=\"https://colab.research.google.com/github/Sn-one/Python-Crash-Course-Sol/blob/main/lottery.ipynb\" target=\"_parent\"><img src=\"https://colab.research.google.com/assets/colab-badge.svg\" alt=\"Open In Colab\"/></a>"
      ]
    },
    {
      "cell_type": "markdown",
      "metadata": {
        "id": "4sPAIViIcq1i"
      },
      "source": [
        "**9-14. Lottery:** Make a list or tuple containing a series of 10 numbers and\n",
        "five letters. Randomly select four numbers or letters from the list and print a\n",
        "message saying that any ticket matching these four numbers or letters wins a\n",
        "prize.\n",
        "\n",
        "**9-15. Lottery Analysis:** You can use a loop to see how hard it might be to win\n",
        "the kind of lottery you just modeled. Make a list or tuple called my_ticket.\n",
        "Write a loop that keeps pulling numbers until your ticket wins. Print a message\n",
        "reporting how many times the loop had to run to give you a winning ticket."
      ]
    },
    {
      "cell_type": "code",
      "metadata": {
        "id": "qb29TE5zR0Sg"
      },
      "source": [
        "\"\"\"simple attempt to model a lottery ticket / event \"\"\"\n",
        "from random import choice\n",
        "\n",
        "\n",
        "class lottery:\n",
        "  \n",
        "\n",
        "  def __init__ (self, outcomes=[1,2,3,4,5,6,7,8,9,10,'a','b','c','d']):\n",
        "    \"\"\"initialize possible outcomes \"\"\"\n",
        "    self.outcomes = outcomes\n",
        "  \n",
        "  def set_P_outcomes(self, p_outcomes):\n",
        "   \n",
        "    self.outcomes = p_outcomes\n",
        "  \n",
        "  def run_lottery(self):\n",
        "    self.winning_ticket = []\n",
        "\n",
        "    while len(self.winning_ticket) < 4:\n",
        "      win_item = choice(self.outcomes)\n",
        "\n",
        "      if win_item not in self.winning_ticket:\n",
        "        \n",
        "        print(f\"{win_item}\")\n",
        "        self.winning_ticket.append(win_item)\n",
        "      \n",
        "    return self.winning_ticket\n",
        "\n",
        "  def customer_ticket(self,ticket):\n",
        "    #c_ticket = []\n",
        "    self.c_ticket = ticket\n",
        "    return self.c_ticket\n",
        "    \n",
        "  def check_ticket(self,ticket_1):\n",
        "    #ticket_1 = self.c_ticket\n",
        "    ticket_2 = self.winning_ticket\n",
        "\n",
        "    for i in ticket_1:\n",
        "      if i not in ticket_2:\n",
        "        return False #f\"Your Ticket {self.c_ticket} is not a winning ticket\"\n",
        "      \n",
        "    return True #f\"You have a winning Ticket !!!\"\n",
        "  \n",
        "  def set_random_ticket(self):\n",
        "    \"\"\"Creates a random ticket \"\"\"\n",
        "    self.random_ticket = []\n",
        "    while len(self.random_ticket) < 4:\n",
        "      ran_item = choice(self.outcomes)\n",
        "\n",
        "      if ran_item not in self.random_ticket:\n",
        "        self.random_ticket.append(ran_item)\n",
        "    \n",
        "    return self.random_ticket\n",
        "  \n",
        "  def times_to_win(self):\n",
        "    \"\"\"Checks how many times it takes a random ticket to win\"\"\"\n",
        "\n",
        "    plays = 0\n",
        "    won = False \n",
        "\n",
        "    \"\"\"sets max tries \"\"\"\n",
        "    max_tries = 1_000_000\n",
        "\n",
        "    while not won:\n",
        "      new_ticket = self.set_random_ticket()\n",
        "\n",
        "      won = self.check_ticket(new_ticket)\n",
        "      plays +=1\n",
        "      if plays >= max_tries:\n",
        "        break\n",
        "    \n",
        "    if won:\n",
        "    \n",
        "      print(f\"Your ticket: {new_ticket} is a winning tikect\")\n",
        "      \n",
        "      print(f\"It took {plays} tries to win!\")\n",
        "    \n",
        "    else:\n",
        "      print(f\"You ticket {new_ticket} is not a winning ticket after {plays} tries . \")\n",
        "    \n",
        "      \n"
      ],
      "execution_count": null,
      "outputs": []
    },
    {
      "cell_type": "code",
      "metadata": {
        "id": "5FXGTmkuV02C"
      },
      "source": [
        "l1 = lottery()"
      ],
      "execution_count": null,
      "outputs": []
    },
    {
      "cell_type": "code",
      "metadata": {
        "colab": {
          "base_uri": "https://localhost:8080/"
        },
        "id": "uj-l87qQWR0Q",
        "outputId": "ff906c6d-bad5-478e-c95a-98ec82a68620"
      },
      "source": [
        "l1.run_lottery()"
      ],
      "execution_count": null,
      "outputs": [
        {
          "output_type": "stream",
          "text": [
            "9\n",
            "8\n",
            "3\n",
            "2\n"
          ],
          "name": "stdout"
        },
        {
          "output_type": "execute_result",
          "data": {
            "text/plain": [
              "[9, 8, 3, 2]"
            ]
          },
          "metadata": {
            "tags": []
          },
          "execution_count": 17
        }
      ]
    },
    {
      "cell_type": "code",
      "metadata": {
        "id": "pjSKLCXPbHhg"
      },
      "source": [
        "l2 =[7,5,2,8]"
      ],
      "execution_count": null,
      "outputs": []
    },
    {
      "cell_type": "code",
      "metadata": {
        "colab": {
          "base_uri": "https://localhost:8080/"
        },
        "id": "Y9WPcUbcbPVW",
        "outputId": "6aa35860-b75e-47a4-f74c-b215cbfecbfa"
      },
      "source": [
        "l1.times_to_win()"
      ],
      "execution_count": null,
      "outputs": [
        {
          "output_type": "stream",
          "text": [
            "Your ticket: [8, 2, 3, 9] is a winning tikect\n",
            "It took 824 tries to win!\n"
          ],
          "name": "stdout"
        }
      ]
    },
    {
      "cell_type": "code",
      "metadata": {
        "colab": {
          "base_uri": "https://localhost:8080/"
        },
        "id": "J2IqQE8zcyLW",
        "outputId": "f3a4e5c7-cc1e-43d3-90ba-141a3e644662"
      },
      "source": [
        "l1.check_ticket(l2)"
      ],
      "execution_count": null,
      "outputs": [
        {
          "output_type": "execute_result",
          "data": {
            "text/plain": [
              "False"
            ]
          },
          "metadata": {
            "tags": []
          },
          "execution_count": 20
        }
      ]
    }
  ]
}