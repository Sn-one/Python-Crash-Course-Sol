{
  "nbformat": 4,
  "nbformat_minor": 0,
  "metadata": {
    "colab": {
      "name": "language_survey.ipynb",
      "provenance": [],
      "collapsed_sections": [],
      "authorship_tag": "ABX9TyOaNPjCW2pZRO74x3BHDbk1",
      "include_colab_link": true
    },
    "kernelspec": {
      "name": "python3",
      "display_name": "Python 3"
    },
    "language_info": {
      "name": "python"
    }
  },
  "cells": [
    {
      "cell_type": "markdown",
      "metadata": {
        "id": "view-in-github",
        "colab_type": "text"
      },
      "source": [
        "<a href=\"https://colab.research.google.com/github/Sn-one/Python-Crash-Course-Sol/blob/main/language_survey.ipynb\" target=\"_parent\"><img src=\"https://colab.research.google.com/assets/colab-badge.svg\" alt=\"Open In Colab\"/></a>"
      ]
    },
    {
      "cell_type": "code",
      "metadata": {
        "colab": {
          "base_uri": "https://localhost:8080/"
        },
        "id": "gKtHvkBieFgr",
        "outputId": "b2e5f1c9-c3f3-42f0-dfe6-7a032ecf701b"
      },
      "source": [
        "!pip install import-ipynb\n",
        "import import_ipynb\n",
        "# Install the PyDrive wrapper & import libraries.\n",
        "# This only needs to be done once per notebook.\n",
        "!pip install -U -q PyDrive\n",
        "from pydrive.auth import GoogleAuth\n",
        "from pydrive.drive import GoogleDrive\n",
        "from google.colab import auth\n",
        "from oauth2client.client import GoogleCredentials\n",
        "\n",
        "# Authenticate and create the PyDrive client.\n",
        "# This only needs to be done once per notebook.\n",
        "auth.authenticate_user()\n",
        "gauth = GoogleAuth()\n",
        "gauth.credentials = GoogleCredentials.get_application_default()\n",
        "drive = GoogleDrive(gauth)\n",
        "\n",
        "# Copy the link and remove the front part of the link (i.e. https://drive.google.com/open?id=) to get the file ID.\n",
        "your_module = drive.CreateFile({'id':'1bkUze9tVGz-46WQgSp6RWksvnMwVGAPw'})\n",
        "your_module.GetContentFile('survey.ipynb')\n"
      ],
      "execution_count": 1,
      "outputs": [
        {
          "output_type": "stream",
          "text": [
            "Collecting import-ipynb\n",
            "  Downloading import-ipynb-0.1.3.tar.gz (4.0 kB)\n",
            "Building wheels for collected packages: import-ipynb\n",
            "  Building wheel for import-ipynb (setup.py) ... \u001b[?25l\u001b[?25hdone\n",
            "  Created wheel for import-ipynb: filename=import_ipynb-0.1.3-py3-none-any.whl size=2975 sha256=ef3d3252b986f03c5cf88254a2710655b9da787bee258f4b429688edbfc0c2e9\n",
            "  Stored in directory: /root/.cache/pip/wheels/b1/5e/dc/79780689896a056199b0b9f24471e3ee184fbd816df355d5f0\n",
            "Successfully built import-ipynb\n",
            "Installing collected packages: import-ipynb\n",
            "Successfully installed import-ipynb-0.1.3\n"
          ],
          "name": "stdout"
        }
      ]
    },
    {
      "cell_type": "code",
      "metadata": {
        "colab": {
          "base_uri": "https://localhost:8080/"
        },
        "id": "nzpacRM-efyX",
        "outputId": "df65afd6-da90-4f45-ecfe-889e4a849be3"
      },
      "source": [
        "from survey import AnonymousSurvey\n",
        "\n",
        "\"\"\" Define a question and make a survey\"\"\"\n",
        "\n",
        "question = \"What language did you first speak ?\"\n",
        "\n",
        "my_survey = AnonymousSurvey(question)\n",
        "\n",
        "\"\"\" Show question and store responses \"\"\"\n",
        "\n",
        "my_survey.show_question()\n",
        "\n",
        "print(\"Enter 'q' at anytime to quit.\\n\")\n",
        "\n",
        "while True:\n",
        "  response = input(\"Language: \")\n",
        "  if response == 'q':\n",
        "    break\n",
        "  my_survey.store_response(response)\n",
        "\n",
        "#show the survey results \n",
        "print(\"\\nThank you to everyone who participated in the survey!\")\n",
        "my_survey.show_results()"
      ],
      "execution_count": 2,
      "outputs": [
        {
          "output_type": "stream",
          "text": [
            "importing Jupyter notebook from survey.ipynb\n",
            "What language did you first speak ?\n",
            "Enter 'q' at anytime to quit.\n",
            "\n",
            "Language: English\n",
            "Language: French\n",
            "Language: Mandarin\n",
            "Language: Swedish\n",
            "Language: q\n",
            "\n",
            "Thank you to everyone who participated in the survey!\n",
            "Survey Results: \n",
            "- English\n",
            "- French\n",
            "- Mandarin\n",
            "- Swedish\n"
          ],
          "name": "stdout"
        }
      ]
    }
  ]
}
