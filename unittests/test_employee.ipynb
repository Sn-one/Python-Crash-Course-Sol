{
  "nbformat": 4,
  "nbformat_minor": 0,
  "metadata": {
    "colab": {
      "name": "test_employee.ipynb",
      "provenance": [],
      "authorship_tag": "ABX9TyMW45S6LtjG1hBW0MMOyusm",
      "include_colab_link": true
    },
    "kernelspec": {
      "name": "python3",
      "display_name": "Python 3"
    },
    "language_info": {
      "name": "python"
    }
  },
  "cells": [
    {
      "cell_type": "markdown",
      "metadata": {
        "id": "view-in-github",
        "colab_type": "text"
      },
      "source": [
        "<a href=\"https://colab.research.google.com/github/Sn-one/Python-Crash-Course-Sol/blob/main/test_employee.ipynb\" target=\"_parent\"><img src=\"https://colab.research.google.com/assets/colab-badge.svg\" alt=\"Open In Colab\"/></a>"
      ]
    },
    {
      "cell_type": "code",
      "metadata": {
        "colab": {
          "base_uri": "https://localhost:8080/"
        },
        "id": "Csqf5TDV0lZX",
        "outputId": "2528405a-bc6a-4d2a-b47c-7f53273f16c4"
      },
      "source": [
        "!pip install import-ipynb\n",
        "import import_ipynb\n",
        "# Install the PyDrive wrapper & import libraries.\n",
        "# This only needs to be done once per notebook.\n",
        "!pip install -U -q PyDrive\n",
        "from pydrive.auth import GoogleAuth\n",
        "from pydrive.drive import GoogleDrive\n",
        "from google.colab import auth\n",
        "from oauth2client.client import GoogleCredentials\n",
        "\n",
        "# Authenticate and create the PyDrive client.\n",
        "# This only needs to be done once per notebook.\n",
        "auth.authenticate_user()\n",
        "gauth = GoogleAuth()\n",
        "gauth.credentials = GoogleCredentials.get_application_default()\n",
        "drive = GoogleDrive(gauth)\n",
        "\n",
        "# Copy the link and remove the front part of the link (i.e. https://drive.google.com/open?id=) to get the file ID.\n",
        "your_module = drive.CreateFile({'id':'1N7aqmPom6hWYjy_v-rzGgBAkJf7rHpQF'})\n",
        "your_module.GetContentFile('Employee.ipynb')"
      ],
      "execution_count": 1,
      "outputs": [
        {
          "output_type": "stream",
          "text": [
            "Collecting import-ipynb\n",
            "  Downloading import-ipynb-0.1.3.tar.gz (4.0 kB)\n",
            "Building wheels for collected packages: import-ipynb\n",
            "  Building wheel for import-ipynb (setup.py) ... \u001b[?25l\u001b[?25hdone\n",
            "  Created wheel for import-ipynb: filename=import_ipynb-0.1.3-py3-none-any.whl size=2975 sha256=57832cf1ec367996334283fdf33a654aa1264f0466b3713c4ed0719cedbd1ab9\n",
            "  Stored in directory: /root/.cache/pip/wheels/b1/5e/dc/79780689896a056199b0b9f24471e3ee184fbd816df355d5f0\n",
            "Successfully built import-ipynb\n",
            "Installing collected packages: import-ipynb\n",
            "Successfully installed import-ipynb-0.1.3\n"
          ],
          "name": "stdout"
        }
      ]
    },
    {
      "cell_type": "code",
      "metadata": {
        "colab": {
          "base_uri": "https://localhost:8080/"
        },
        "id": "vE5U6HHV08xB",
        "outputId": "a6a22cb7-455f-4e9f-943b-ae1ebc774020"
      },
      "source": [
        "import unittest\n",
        "\n",
        "from Employee import Employee\n",
        "\n",
        "class TestEmployee(unittest.TestCase):\n",
        "  \"\"\" Test for raise\"\"\"\n",
        "  \n",
        "  def setUp(self):\n",
        "    self.SN = Employee('E','SN',35000) \n",
        "\n",
        "  def test_give_default(self):\n",
        "    self.SN.give_raise()\n",
        "\n",
        "    self.assertEqual(self.SN.annual_salary, 40000)\n",
        "  \n",
        "  def test_give_custom(self):\n",
        "    self.SN.give_raise(70000)\n",
        "\n",
        "    self.assertEqual(self.SN.annual_salary,105000)\n",
        "\n",
        "\n",
        "if __name__ == '__main__': unittest.main(argv=['first-arg-is-ignored'], exit=False)"
      ],
      "execution_count": 5,
      "outputs": [
        {
          "output_type": "stream",
          "text": [
            "..\n",
            "----------------------------------------------------------------------\n",
            "Ran 2 tests in 0.003s\n",
            "\n",
            "OK\n"
          ],
          "name": "stderr"
        }
      ]
    }
  ]
}
