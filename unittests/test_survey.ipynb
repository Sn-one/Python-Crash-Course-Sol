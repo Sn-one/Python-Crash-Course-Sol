{
  "nbformat": 4,
  "nbformat_minor": 0,
  "metadata": {
    "colab": {
      "name": "test_survey.ipynb",
      "provenance": [],
      "collapsed_sections": [],
      "authorship_tag": "ABX9TyOdQ24LnVRmAGrWH0q+c6Wn",
      "include_colab_link": true
    },
    "kernelspec": {
      "name": "python3",
      "display_name": "Python 3"
    },
    "language_info": {
      "name": "python"
    }
  },
  "cells": [
    {
      "cell_type": "markdown",
      "metadata": {
        "id": "view-in-github",
        "colab_type": "text"
      },
      "source": [
        "<a href=\"https://colab.research.google.com/github/Sn-one/Python-Crash-Course-Sol/blob/main/test_survey.ipynb\" target=\"_parent\"><img src=\"https://colab.research.google.com/assets/colab-badge.svg\" alt=\"Open In Colab\"/></a>"
      ]
    },
    {
      "cell_type": "code",
      "metadata": {
        "colab": {
          "base_uri": "https://localhost:8080/"
        },
        "id": "ReTFLQdUosNU",
        "outputId": "164943ed-7aa2-4cc5-f312-edfce53fd5b3"
      },
      "source": [
        "!pip install import-ipynb\n",
        "import import_ipynb\n",
        "# Install the PyDrive wrapper & import libraries.\n",
        "# This only needs to be done once per notebook.\n",
        "!pip install -U -q PyDrive\n",
        "from pydrive.auth import GoogleAuth\n",
        "from pydrive.drive import GoogleDrive\n",
        "from google.colab import auth\n",
        "from oauth2client.client import GoogleCredentials\n",
        "\n",
        "# Authenticate and create the PyDrive client.\n",
        "# This only needs to be done once per notebook.\n",
        "auth.authenticate_user()\n",
        "gauth = GoogleAuth()\n",
        "gauth.credentials = GoogleCredentials.get_application_default()\n",
        "drive = GoogleDrive(gauth)\n",
        "\n",
        "# Copy the link and remove the front part of the link (i.e. https://drive.google.com/open?id=) to get the file ID.\n",
        "your_module = drive.CreateFile({'id':'1bkUze9tVGz-46WQgSp6RWksvnMwVGAPw'})\n",
        "your_module.GetContentFile('survey.ipynb')"
      ],
      "execution_count": 1,
      "outputs": [
        {
          "output_type": "stream",
          "text": [
            "Collecting import-ipynb\n",
            "  Downloading import-ipynb-0.1.3.tar.gz (4.0 kB)\n",
            "Building wheels for collected packages: import-ipynb\n",
            "  Building wheel for import-ipynb (setup.py) ... \u001b[?25l\u001b[?25hdone\n",
            "  Created wheel for import-ipynb: filename=import_ipynb-0.1.3-py3-none-any.whl size=2975 sha256=295b5452c3548e5db10fbeda1943c7000f0d65f76d8df03ed01d96f04afd5acf\n",
            "  Stored in directory: /root/.cache/pip/wheels/b1/5e/dc/79780689896a056199b0b9f24471e3ee184fbd816df355d5f0\n",
            "Successfully built import-ipynb\n",
            "Installing collected packages: import-ipynb\n",
            "Successfully installed import-ipynb-0.1.3\n"
          ],
          "name": "stdout"
        }
      ]
    },
    {
      "cell_type": "code",
      "metadata": {
        "colab": {
          "base_uri": "https://localhost:8080/"
        },
        "id": "e9ossFNWo5mx",
        "outputId": "56515b04-0b34-4d4b-fd2f-6ed61ee19d47"
      },
      "source": [
        "import unittest\n",
        "\n",
        "from survey import AnonymousSurvey\n",
        "\n",
        "class TestAnonymousSurvey(unittest.TestCase):\n",
        "  \"\"\" Test for the class AnonymousSurvey \"\"\"\n",
        "\n",
        "  def setUp(self):\n",
        "    \"\"\"\n",
        "    Create a Survey and a set of responses for use in all test methods \n",
        "    \"\"\"\n",
        "    question = \"What language did you first learn to speak?\"\n",
        "    self.my_survey = AnonymousSurvey(question)\n",
        "    self.responses = ['English', 'Spanish','Mandarin']\n",
        "\n",
        "  def test_store_single_response(self):\n",
        "    \"\"\" Test that a single response is stored properly\"\"\"\n",
        "  \n",
        "    self.my_survey.store_response(self.responses[0])\n",
        "    self.assertIn(self.responses[0], self.my_survey.responses)\n",
        "  \n",
        "  def test_store_three_responses(self):\n",
        "    for response in self.responses:\n",
        "      self.my_survey.store_response(response)\n",
        "    \n",
        "    for response in self.responses:\n",
        "      self.assertIn(response, self.my_survey.responses)\n",
        "\n",
        "\n",
        "if __name__ == '__main__': unittest.main(argv=['first-arg-is-ignored'], exit=False)"
      ],
      "execution_count": 8,
      "outputs": [
        {
          "output_type": "stream",
          "text": [
            "..\n",
            "----------------------------------------------------------------------\n",
            "Ran 2 tests in 0.004s\n",
            "\n",
            "OK\n"
          ],
          "name": "stderr"
        }
      ]
    }
  ]
}
